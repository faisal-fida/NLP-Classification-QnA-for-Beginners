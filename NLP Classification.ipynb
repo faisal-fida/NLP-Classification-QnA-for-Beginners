{
 "cells": [
  {
   "cell_type": "code",
   "execution_count": 9,
   "id": "aab69200",
   "metadata": {},
   "outputs": [],
   "source": [
    "from sklearn.feature_extraction.text import CountVectorizer, TfidfTransformer\n",
    "from sklearn.linear_model import SGDClassifier\n",
    "from sklearn.pipeline import Pipeline\n",
    "from sklearn.metrics import accuracy_score\n",
    "\n",
    "from sklearn.model_selection import train_test_split"
   ]
  },
  {
   "cell_type": "code",
   "execution_count": 10,
   "id": "660d755f",
   "metadata": {},
   "outputs": [],
   "source": [
    "# Define training and test data\n",
    "sentences = [\n",
    "    \"The weather today is sunny.\",\n",
    "    \"I love eating pizza.\",\n",
    "    \"The cat is sleeping.\",\n",
    "    \"I enjoy playing tennis.\",\n",
    "    \"She is a talented musician.\",\n",
    "    \"I dislike waking up early.\",\n",
    "    \"The movie was boring.\",\n",
    "    \"He scored a goal in the match.\",\n",
    "    \"I prefer tea over coffee.\",\n",
    "    \"The book is interesting.\",\n",
    "    \"She always makes me laugh.\",\n",
    "    \"I hate doing chores.\",\n",
    "    \"The concert was amazing.\",\n",
    "    \"He is a great friend.\",\n",
    "    \"I am excited for the trip.\",\n",
    "    \"The food tastes delicious.\",\n",
    "    \"She won the competition.\",\n",
    "    \"I find math difficult.\",\n",
    "    \"The beach is beautiful.\",\n",
    "    \"He is a good singer.\"\n",
    "]\n",
    "\n",
    "labels = [1, 0, 1, 0, 1, 0, 0, 1, 0, 1, 1, 0, 1, 1, 1, 1, 0, 1, 1, 1]"
   ]
  },
  {
   "cell_type": "code",
   "execution_count": 15,
   "id": "7e7900da",
   "metadata": {},
   "outputs": [],
   "source": [
    "train_data, test_data = train_test_split(sentences, test_size=0.2)\n",
    "train_labels, test_labels = train_test_split(labels, test_size=0.2)"
   ]
  },
  {
   "cell_type": "code",
   "execution_count": 16,
   "id": "33992c3f",
   "metadata": {},
   "outputs": [],
   "source": [
    "# Define the model\n",
    "model = Pipeline([('vect', CountVectorizer()),('tfidf', TfidfTransformer()),\n",
    "    ('clf', SGDClassifier(loss='hinge', penalty='l2', alpha=1e-3, random_state=42, max_iter=5, tol=None)),\n",
    "])"
   ]
  },
  {
   "cell_type": "code",
   "execution_count": 17,
   "id": "bbb55dbe",
   "metadata": {},
   "outputs": [],
   "source": [
    "model.fit(train_data, train_labels)\n",
    "prediction = model.predict(test_data)"
   ]
  },
  {
   "cell_type": "code",
   "execution_count": 18,
   "id": "4dbcd77e",
   "metadata": {},
   "outputs": [
    {
     "data": {
      "text/plain": [
       "0.25"
      ]
     },
     "execution_count": 18,
     "metadata": {},
     "output_type": "execute_result"
    }
   ],
   "source": [
    "accuracy_score(test_labels, prediction)"
   ]
  },
  {
   "cell_type": "code",
   "execution_count": 22,
   "id": "c7f72666",
   "metadata": {},
   "outputs": [
    {
     "data": {
      "text/plain": [
       "array([1])"
      ]
     },
     "execution_count": 22,
     "metadata": {},
     "output_type": "execute_result"
    }
   ],
   "source": [
    "model.predict(['The movie is awesome.'])"
   ]
  },
  {
   "cell_type": "code",
   "execution_count": null,
   "id": "fc697129",
   "metadata": {},
   "outputs": [],
   "source": []
  }
 ],
 "metadata": {
  "kernelspec": {
   "display_name": "Python 3 (ipykernel)",
   "language": "python",
   "name": "python3"
  },
  "language_info": {
   "codemirror_mode": {
    "name": "ipython",
    "version": 3
   },
   "file_extension": ".py",
   "mimetype": "text/x-python",
   "name": "python",
   "nbconvert_exporter": "python",
   "pygments_lexer": "ipython3",
   "version": "3.10.9"
  }
 },
 "nbformat": 4,
 "nbformat_minor": 5
}
